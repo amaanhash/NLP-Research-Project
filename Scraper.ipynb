{
  "nbformat": 4,
  "nbformat_minor": 0,
  "metadata": {
    "colab": {
      "provenance": [],
      "authorship_tag": "ABX9TyP0Z5ybmgctNQH61P8QOhq4",
      "include_colab_link": true
    },
    "kernelspec": {
      "name": "python3",
      "display_name": "Python 3"
    },
    "language_info": {
      "name": "python"
    }
  },
  "cells": [
    {
      "cell_type": "markdown",
      "metadata": {
        "id": "view-in-github",
        "colab_type": "text"
      },
      "source": [
        "<a href=\"https://colab.research.google.com/github/amaanhash/NLP-Research-Project/blob/main/Scraper.ipynb\" target=\"_parent\"><img src=\"https://colab.research.google.com/assets/colab-badge.svg\" alt=\"Open In Colab\"/></a>"
      ]
    },
    {
      "cell_type": "code",
      "source": [
        "!pip install xmltodict"
      ],
      "metadata": {
        "id": "NsqXrtz0uKba",
        "colab": {
          "base_uri": "https://localhost:8080/"
        },
        "outputId": "92f23b32-44f5-4833-fe48-8ff67d2be221"
      },
      "execution_count": 2,
      "outputs": [
        {
          "output_type": "stream",
          "name": "stdout",
          "text": [
            "Collecting xmltodict\n",
            "  Downloading xmltodict-0.13.0-py2.py3-none-any.whl (10.0 kB)\n",
            "Installing collected packages: xmltodict\n",
            "Successfully installed xmltodict-0.13.0\n"
          ]
        }
      ]
    },
    {
      "cell_type": "code",
      "execution_count": 3,
      "metadata": {
        "id": "iXMDAoamtkud",
        "colab": {
          "base_uri": "https://localhost:8080/"
        },
        "outputId": "0fa03411-d7b7-4b84-b912-fb7edae7d38b"
      },
      "outputs": [
        {
          "output_type": "stream",
          "name": "stdout",
          "text": [
            "category 2 started\n",
            "article 1 started\n",
            "article 2 started\n",
            "article 3 started\n",
            "article 4 started\n",
            "article 5 started\n",
            "article 6 started\n",
            "article 7 started\n",
            "article 8 started\n",
            "article 9 started\n",
            "article 10 started\n",
            "category 8 started\n",
            "article 1 started\n",
            "article 2 started\n",
            "article 3 started\n",
            "article 4 started\n",
            "article 5 started\n",
            "article 6 started\n",
            "article 7 started\n",
            "article 8 started\n",
            "article 9 started\n",
            "article 10 started\n",
            "saving in excel file\n"
          ]
        }
      ],
      "source": [
        "import requests\n",
        "import xmltodict\n",
        "import json\n",
        "import pandas as pd\n",
        "\n",
        "\n",
        "api_key = '0c6839d9-42d5-461a-a26f-186ab595faa6'\n",
        "headers = {\"accept\": \"application/json\", \"x-api-key\": api_key}\n",
        "\n",
        "all_articles_data = []\n",
        "\n",
        "num = 10\n",
        "\n",
        "for cat in (2,8):\n",
        "\n",
        "  print(f\"category {cat} started\")\n",
        "\n",
        "  url = f\"https://syndication.api.eb.com/production/articles?articleTypeId=1&categoryId={str(cat)}\"\n",
        "\n",
        "  response = requests.get(url, headers=headers)\n",
        "  data = response.json()\n",
        "  articles = data[\"articles\"]\n",
        "\n",
        "  j=0\n",
        "  for article in articles:\n",
        "    print(f\"article {j+1} started\")\n",
        "    article_id = article[\"articleId\"]\n",
        "    article_title = article[\"title\"]\n",
        "\n",
        "    url = f\"https://syndication.api.eb.com/production/article/{article_id}/xml\"\n",
        "    headers = {\"accept\": \"*/*\", \"x-api-key\": api_key}\n",
        "\n",
        "    response = requests.get(url, headers=headers)\n",
        "    xml = response.text\n",
        "    xml_dict = xmltodict.parse(xml)\n",
        "\n",
        "    json_data = json.dumps(xml_dict, indent=2)\n",
        "    json_data = json.loads(json_data)\n",
        "\n",
        "    # print(json_data)\n",
        "    content =\"\"\n",
        "    i=0\n",
        "    for para in json_data[\"article\"][\"p\"]:\n",
        "      if(\"#text\"== para):\n",
        "        content += json_data[\"article\"][\"p\"][\"#text\"]\n",
        "\n",
        "    for para in json_data[\"article\"][\"p\"]:\n",
        "      if(i==0 and \"#text\" in para):\n",
        "        content += para[\"#text\"]\n",
        "      else:\n",
        "        content += str(para)\n",
        "      i = i+1\n",
        "\n",
        "    data = {\"id\":article_id ,\"title\": article_title, \"content\": content}\n",
        "    all_articles_data.append(data)\n",
        "    j = j+1\n",
        "    if(j==num):\n",
        "      break\n",
        "\n",
        "df = pd.DataFrame(all_articles_data)\n",
        "print(\"saving in excel file\")\n",
        "df.to_excel(\"extracted_data.xlsx\", index=False)"
      ]
    },
    {
      "cell_type": "code",
      "source": [
        "!curl -X GET \"https://syndication.api.eb.com/production/article/2350/xml\" -H \"accept: */*\" -H \"x-api-key: 0c6839d9-42d5-461a-a26f-186ab595faa6\""
      ],
      "metadata": {
        "id": "mEznwL3rCntK"
      },
      "execution_count": null,
      "outputs": []
    },
    {
      "cell_type": "markdown",
      "source": [],
      "metadata": {
        "id": "qnEZWsvLuHI5"
      }
    }
  ]
}